{
 "cells": [
  {
   "cell_type": "markdown",
   "metadata": {
    "colab_type": "text",
    "id": "7SN5USFEIIK3"
   },
   "source": [
    "# Word Embeddings using TensorFlow 2.0"
   ]
  },
  {
   "cell_type": "markdown",
   "metadata": {},
   "source": [
    "In word embedding, each word is a unit. Each word is represented by some real-valued vector. The values of the vector of each word are learned in a way that similar words have similar kinds of vector values. It is because it is also considering the context of the word and relationship of words to each other. These vector values are learned in a deep neural fashion.\n",
    "\n",
    "A word embedding is a learned representation for text where semantically similar words have a similar representation of a vector.\n",
    "\n",
    "One of the benefits of using dense and low-dimensional vectors is computational: the majority of neural network toolkits do not play well with very high-dimensional, sparse vectors. … The main benefit of the dense representations is generalization power: if we believe some features may provide similar clues, it is worthwhile to provide a representation that is able to capture these similarities."
   ]
  },
  {
   "cell_type": "code",
   "execution_count": 2,
   "metadata": {
    "colab": {},
    "colab_type": "code",
    "id": "SIXEk5ON5P7h"
   },
   "outputs": [],
   "source": [
    "from __future__ import absolute_import, division, print_function, unicode_literals\n",
    "\n",
    "import tensorflow as tf"
   ]
  },
  {
   "cell_type": "code",
   "execution_count": 3,
   "metadata": {},
   "outputs": [],
   "source": [
    "#remember to enable the eager_execution at the very first after tensorflow importing \n",
    "tf.compat.v1.enable_eager_execution()\n"
   ]
  },
  {
   "cell_type": "code",
   "execution_count": 6,
   "metadata": {
    "colab": {},
    "colab_type": "code",
    "id": "RutaI-Tpev3T"
   },
   "outputs": [],
   "source": [
    "from tensorflow import keras\n",
    "from tensorflow.keras import layers\n",
    "\n",
    "import tensorflow_datasets as tfds\n"
   ]
  },
  {
   "cell_type": "markdown",
   "metadata": {
    "colab_type": "text",
    "id": "_Bh8B1TUT6mV"
   },
   "source": [
    "So now we will learn to train our own deep learning model to learn the embedding from scratch on our dataset.\n",
    "\n",
    "For this example, we have collected the dataset of the IMDB movie review dataset that is publicly available. We have loaded the dataset from the TensorFlow Load() function because this dataset is already imported in Tensroflow data API.\n"
   ]
  },
  {
   "cell_type": "code",
   "execution_count": 7,
   "metadata": {
    "colab": {},
    "colab_type": "code",
    "id": "yg6tyxPtp1TE"
   },
   "outputs": [],
   "source": [
    "(train_data, test_data), info = tfds.load(\n",
    "    'imdb_reviews/subwords8k', \n",
    "    split = (tfds.Split.TRAIN, tfds.Split.TEST), \n",
    "    with_info=True, as_supervised=True)"
   ]
  },
  {
   "cell_type": "code",
   "execution_count": 14,
   "metadata": {
    "colab": {},
    "colab_type": "code",
    "id": "MYrsTgxhLBfl"
   },
   "outputs": [],
   "source": [
    "#Get the vocab size from the 'text' feature.\n",
    "\n",
    "encoder = info.features['text'].encoder\n",
    "vocab_size = encoder.vocab_size"
   ]
  },
  {
   "cell_type": "markdown",
   "metadata": {
    "colab_type": "text",
    "id": "GwCTfSG63Qth"
   },
   "source": [
    "`padded_batch`will fix the size of each movie review to standard length so that the model would have all the review of same length."
   ]
  },
  {
   "cell_type": "code",
   "execution_count": 15,
   "metadata": {
    "colab": {},
    "colab_type": "code",
    "id": "LwSCxER_2Lef"
   },
   "outputs": [
    {
     "data": {
      "text/plain": [
       "array([[  62,    9,  624, ...,    0,    0,    0],\n",
       "       [  62,   32,    9, ...,    0,    0,    0],\n",
       "       [ 753, 5524, 2317, ...,    0,    0,    0],\n",
       "       ...,\n",
       "       [  19, 7697,   57, ...,   64, 3870, 7975],\n",
       "       [  19,  213,  728, ...,    0,    0,    0],\n",
       "       [ 492,  270, 8002, ...,    0,    0,    0]])"
      ]
     },
     "execution_count": 15,
     "metadata": {},
     "output_type": "execute_result"
    }
   ],
   "source": [
    "padded_shapes = ([None],())\n",
    "train_batches = train_data.shuffle(1000).padded_batch(10, padded_shapes = padded_shapes)\n",
    "test_batches = test_data.shuffle(1000).padded_batch(10, padded_shapes = padded_shapes)\n",
    "\n",
    "train_batch, train_labels = next(iter(train_batches))\n",
    "train_batch.numpy()"
   ]
  },
  {
   "cell_type": "markdown",
   "metadata": {
    "colab_type": "text",
    "id": "zI9_wLIiWO8Z"
   },
   "source": [
    "### Create a simple model\n",
    "\n",
    "The architecture of this model is pretty simple to understand. It is using the Keras Sequential API for defining the layers of the model. The algorithm for we are defining our model architecture is upon the \"Continuous bag of words\". The CBOW model learns the embedding by predicting the current word based on its context.\n",
    "\n",
    "In the first Embedding layer, we have defined the total vocabulary size and the embedding dimension. What layer does in output is it turns positive integers (indexes) into dense vectors of fixed size. \n",
    "\n",
    "In the second GlobalAveragePooling1D layer, we actually force our model to learn the input of variable length and as an output return a fixed-length vector for each word.\n",
    "\n",
    "In the third Dense layer, we are actually doing the actual neuron calculation here using a fully-connected (Dense) layer with 32 hidden units with the activation function set as \"relu\".\n",
    "\n",
    "In the third Dense layer, we are actually doing the actual neuron calculation here using a fully-connected (Dense) layer with 16 hidden units with the activation function set as \"relu\".\n",
    "\n",
    "\n",
    "In the forth Dense layer, we are setting our last layer for the classification task, becuase we will learn the word embeddings using Classification task of Supervised Learning. We have set the \"sigmoid\" as our activation function for the last layer so that it can output value between 0 and 1 for Binary Classification of IMDB movie review."
   ]
  },
  {
   "cell_type": "code",
   "execution_count": 24,
   "metadata": {
    "colab": {},
    "colab_type": "code",
    "id": "pHLcFtn5Wsqj"
   },
   "outputs": [
    {
     "name": "stdout",
     "output_type": "stream",
     "text": [
      "Model: \"sequential_2\"\n",
      "_________________________________________________________________\n",
      "Layer (type)                 Output Shape              Param #   \n",
      "=================================================================\n",
      "embedding_2 (Embedding)      (None, None, 16)          130960    \n",
      "_________________________________________________________________\n",
      "global_average_pooling1d_2 ( (None, 16)                0         \n",
      "_________________________________________________________________\n",
      "dense_4 (Dense)              (None, 32)                544       \n",
      "_________________________________________________________________\n",
      "dense_5 (Dense)              (None, 16)                528       \n",
      "_________________________________________________________________\n",
      "dense_6 (Dense)              (None, 1)                 17        \n",
      "=================================================================\n",
      "Total params: 132,049\n",
      "Trainable params: 132,049\n",
      "Non-trainable params: 0\n",
      "_________________________________________________________________\n"
     ]
    }
   ],
   "source": [
    "embedding_dim=16\n",
    "\n",
    "model = keras.Sequential([\n",
    "  layers.Embedding(encoder.vocab_size, embedding_dim),\n",
    "  layers.GlobalAveragePooling1D(),\n",
    "  layers.Dense(32, activation='relu'),\n",
    "  layers.Dense(16, activation='relu'),\n",
    "  layers.Dense(1, activation='sigmoid')\n",
    "])\n",
    "\n",
    "model.summary()"
   ]
  },
  {
   "cell_type": "markdown",
   "metadata": {
    "colab_type": "text",
    "id": "JjLNgKO7W2fe"
   },
   "source": [
    "### Compile and train the model\n",
    "\n",
    "Once we have defined the architecture of the model, we will compile this model and then train it over the IMDB movie review training dataset. We will also provide the validation dataset so that we can compare the training loss with validation loss to avoid overfitting in any case."
   ]
  },
  {
   "cell_type": "code",
   "execution_count": 25,
   "metadata": {
    "colab": {},
    "colab_type": "code",
    "id": "lCUgdP69Wzix"
   },
   "outputs": [
    {
     "name": "stdout",
     "output_type": "stream",
     "text": [
      "Train for 20 steps, validate for 20 steps\n",
      "Epoch 1/100\n",
      "20/20 [==============================] - 1s 65ms/step - loss: 0.6934 - accuracy: 0.5200 - val_loss: 0.6957 - val_accuracy: 0.4400\n",
      "Epoch 2/100\n",
      "20/20 [==============================] - 0s 14ms/step - loss: 0.6954 - accuracy: 0.4450 - val_loss: 0.6927 - val_accuracy: 0.5150\n",
      "Epoch 3/100\n",
      "20/20 [==============================] - 0s 15ms/step - loss: 0.6929 - accuracy: 0.5050 - val_loss: 0.6925 - val_accuracy: 0.5250\n",
      "Epoch 4/100\n",
      "20/20 [==============================] - 0s 14ms/step - loss: 0.6937 - accuracy: 0.4650 - val_loss: 0.6935 - val_accuracy: 0.4900\n",
      "Epoch 5/100\n",
      "20/20 [==============================] - 0s 14ms/step - loss: 0.6932 - accuracy: 0.4750 - val_loss: 0.6927 - val_accuracy: 0.5100\n",
      "Epoch 6/100\n",
      "20/20 [==============================] - 0s 14ms/step - loss: 0.6932 - accuracy: 0.5000 - val_loss: 0.6927 - val_accuracy: 0.5100\n",
      "Epoch 7/100\n",
      "20/20 [==============================] - 0s 14ms/step - loss: 0.6926 - accuracy: 0.5150 - val_loss: 0.6926 - val_accuracy: 0.4900\n",
      "Epoch 8/100\n",
      "20/20 [==============================] - 0s 14ms/step - loss: 0.6932 - accuracy: 0.4950 - val_loss: 0.6925 - val_accuracy: 0.5300\n",
      "Epoch 9/100\n",
      "20/20 [==============================] - 0s 14ms/step - loss: 0.6924 - accuracy: 0.5800 - val_loss: 0.6929 - val_accuracy: 0.4850\n",
      "Epoch 10/100\n",
      "20/20 [==============================] - 0s 22ms/step - loss: 0.6928 - accuracy: 0.5400 - val_loss: 0.6924 - val_accuracy: 0.5150\n",
      "Epoch 11/100\n",
      "20/20 [==============================] - 0s 14ms/step - loss: 0.6923 - accuracy: 0.4950 - val_loss: 0.6914 - val_accuracy: 0.5300\n",
      "Epoch 12/100\n",
      "20/20 [==============================] - 0s 16ms/step - loss: 0.6914 - accuracy: 0.5200 - val_loss: 0.6905 - val_accuracy: 0.5150\n",
      "Epoch 13/100\n",
      "20/20 [==============================] - 0s 18ms/step - loss: 0.6914 - accuracy: 0.5400 - val_loss: 0.6897 - val_accuracy: 0.5950\n",
      "Epoch 14/100\n",
      "20/20 [==============================] - 0s 14ms/step - loss: 0.6887 - accuracy: 0.5750 - val_loss: 0.6893 - val_accuracy: 0.5100\n",
      "Epoch 15/100\n",
      "20/20 [==============================] - 0s 16ms/step - loss: 0.6888 - accuracy: 0.5350 - val_loss: 0.6892 - val_accuracy: 0.6400\n",
      "Epoch 16/100\n",
      "20/20 [==============================] - 0s 20ms/step - loss: 0.6859 - accuracy: 0.5900 - val_loss: 0.6834 - val_accuracy: 0.5700\n",
      "Epoch 17/100\n",
      "20/20 [==============================] - 0s 16ms/step - loss: 0.6823 - accuracy: 0.5000 - val_loss: 0.6843 - val_accuracy: 0.6250\n",
      "Epoch 18/100\n",
      "20/20 [==============================] - 0s 21ms/step - loss: 0.6865 - accuracy: 0.5950 - val_loss: 0.6896 - val_accuracy: 0.5300\n",
      "Epoch 19/100\n",
      "20/20 [==============================] - 1s 26ms/step - loss: 0.6857 - accuracy: 0.5450 - val_loss: 0.6886 - val_accuracy: 0.5300\n",
      "Epoch 20/100\n",
      "20/20 [==============================] - 0s 22ms/step - loss: 0.6863 - accuracy: 0.5550 - val_loss: 0.6856 - val_accuracy: 0.5600\n",
      "Epoch 21/100\n",
      "20/20 [==============================] - 0s 23ms/step - loss: 0.6828 - accuracy: 0.5550 - val_loss: 0.6852 - val_accuracy: 0.5050\n",
      "Epoch 22/100\n",
      "20/20 [==============================] - 0s 21ms/step - loss: 0.6813 - accuracy: 0.5500 - val_loss: 0.6738 - val_accuracy: 0.6300\n",
      "Epoch 23/100\n",
      "20/20 [==============================] - 0s 13ms/step - loss: 0.6659 - accuracy: 0.6650 - val_loss: 0.6630 - val_accuracy: 0.7350\n",
      "Epoch 24/100\n",
      "20/20 [==============================] - 0s 14ms/step - loss: 0.6668 - accuracy: 0.7000 - val_loss: 0.6581 - val_accuracy: 0.7300\n",
      "Epoch 25/100\n",
      "20/20 [==============================] - 0s 13ms/step - loss: 0.6623 - accuracy: 0.6650 - val_loss: 0.6460 - val_accuracy: 0.7400\n",
      "Epoch 26/100\n",
      "20/20 [==============================] - 0s 16ms/step - loss: 0.6446 - accuracy: 0.6550 - val_loss: 0.6397 - val_accuracy: 0.7200\n",
      "Epoch 27/100\n",
      "20/20 [==============================] - 0s 16ms/step - loss: 0.6194 - accuracy: 0.6900 - val_loss: 0.6113 - val_accuracy: 0.6200\n",
      "Epoch 28/100\n",
      "20/20 [==============================] - 0s 14ms/step - loss: 0.6247 - accuracy: 0.6550 - val_loss: 0.6218 - val_accuracy: 0.6850\n",
      "Epoch 29/100\n",
      "20/20 [==============================] - 0s 14ms/step - loss: 0.5864 - accuracy: 0.7300 - val_loss: 0.5727 - val_accuracy: 0.7250\n",
      "Epoch 30/100\n",
      "20/20 [==============================] - 0s 17ms/step - loss: 0.6352 - accuracy: 0.6300 - val_loss: 0.6185 - val_accuracy: 0.6050\n",
      "Epoch 31/100\n",
      "20/20 [==============================] - 0s 14ms/step - loss: 0.5742 - accuracy: 0.7200 - val_loss: 0.5622 - val_accuracy: 0.7500\n",
      "Epoch 32/100\n",
      "20/20 [==============================] - 0s 14ms/step - loss: 0.5373 - accuracy: 0.7600 - val_loss: 0.5362 - val_accuracy: 0.7400\n",
      "Epoch 33/100\n",
      "20/20 [==============================] - 0s 16ms/step - loss: 0.5240 - accuracy: 0.8050 - val_loss: 0.5236 - val_accuracy: 0.8300\n",
      "Epoch 34/100\n",
      "20/20 [==============================] - 0s 14ms/step - loss: 0.4681 - accuracy: 0.8100 - val_loss: 0.5362 - val_accuracy: 0.7700\n",
      "Epoch 35/100\n",
      "20/20 [==============================] - 0s 13ms/step - loss: 0.4611 - accuracy: 0.8400 - val_loss: 0.5100 - val_accuracy: 0.8050\n",
      "Epoch 36/100\n",
      "20/20 [==============================] - 0s 17ms/step - loss: 0.4939 - accuracy: 0.8150 - val_loss: 0.4998 - val_accuracy: 0.7250\n",
      "Epoch 37/100\n",
      "20/20 [==============================] - 0s 12ms/step - loss: 0.4741 - accuracy: 0.7850 - val_loss: 0.5666 - val_accuracy: 0.6550\n",
      "Epoch 38/100\n",
      "20/20 [==============================] - 0s 14ms/step - loss: 0.4876 - accuracy: 0.7500 - val_loss: 0.4350 - val_accuracy: 0.8500\n",
      "Epoch 39/100\n",
      "20/20 [==============================] - 0s 13ms/step - loss: 0.5102 - accuracy: 0.7150 - val_loss: 0.4435 - val_accuracy: 0.7800\n",
      "Epoch 40/100\n",
      "20/20 [==============================] - 0s 14ms/step - loss: 0.3646 - accuracy: 0.8700 - val_loss: 0.3819 - val_accuracy: 0.8650\n",
      "Epoch 41/100\n",
      "20/20 [==============================] - 0s 12ms/step - loss: 0.4162 - accuracy: 0.8650 - val_loss: 0.4531 - val_accuracy: 0.8550\n",
      "Epoch 42/100\n",
      "20/20 [==============================] - 0s 13ms/step - loss: 0.4043 - accuracy: 0.8000 - val_loss: 0.5265 - val_accuracy: 0.8000\n",
      "Epoch 43/100\n",
      "20/20 [==============================] - 0s 12ms/step - loss: 0.4579 - accuracy: 0.7850 - val_loss: 0.3947 - val_accuracy: 0.8300\n",
      "Epoch 44/100\n",
      "20/20 [==============================] - 0s 15ms/step - loss: 0.4359 - accuracy: 0.8100 - val_loss: 0.4117 - val_accuracy: 0.8300\n",
      "Epoch 45/100\n",
      "20/20 [==============================] - 0s 19ms/step - loss: 0.4740 - accuracy: 0.7700 - val_loss: 0.4305 - val_accuracy: 0.8000\n",
      "Epoch 46/100\n",
      "20/20 [==============================] - 0s 14ms/step - loss: 0.3657 - accuracy: 0.8750 - val_loss: 0.4600 - val_accuracy: 0.7550\n",
      "Epoch 47/100\n",
      "20/20 [==============================] - 0s 14ms/step - loss: 0.4262 - accuracy: 0.8500 - val_loss: 0.3813 - val_accuracy: 0.8650\n",
      "Epoch 48/100\n",
      "20/20 [==============================] - 0s 12ms/step - loss: 0.3844 - accuracy: 0.8400 - val_loss: 0.4644 - val_accuracy: 0.8050\n",
      "Epoch 49/100\n",
      "20/20 [==============================] - 0s 13ms/step - loss: 0.4163 - accuracy: 0.8300 - val_loss: 0.3866 - val_accuracy: 0.8300\n",
      "Epoch 50/100\n",
      "20/20 [==============================] - 0s 15ms/step - loss: 0.4186 - accuracy: 0.8200 - val_loss: 0.3790 - val_accuracy: 0.8600\n",
      "Epoch 51/100\n",
      "20/20 [==============================] - 0s 14ms/step - loss: 0.4090 - accuracy: 0.7900 - val_loss: 0.3984 - val_accuracy: 0.8200\n",
      "Epoch 52/100\n",
      "20/20 [==============================] - 0s 17ms/step - loss: 0.3483 - accuracy: 0.8650 - val_loss: 0.4905 - val_accuracy: 0.7500\n",
      "Epoch 53/100\n",
      "20/20 [==============================] - 0s 19ms/step - loss: 0.3638 - accuracy: 0.8450 - val_loss: 0.4216 - val_accuracy: 0.8250\n",
      "Epoch 54/100\n",
      "20/20 [==============================] - 0s 15ms/step - loss: 0.3626 - accuracy: 0.8550 - val_loss: 0.4153 - val_accuracy: 0.8200\n",
      "Epoch 55/100\n",
      "20/20 [==============================] - 0s 13ms/step - loss: 0.3297 - accuracy: 0.8600 - val_loss: 0.3457 - val_accuracy: 0.8600\n",
      "Epoch 56/100\n",
      "20/20 [==============================] - 0s 15ms/step - loss: 0.4100 - accuracy: 0.7850 - val_loss: 0.3887 - val_accuracy: 0.8300\n",
      "Epoch 57/100\n",
      "20/20 [==============================] - 0s 13ms/step - loss: 0.4582 - accuracy: 0.8050 - val_loss: 0.4460 - val_accuracy: 0.8250\n",
      "Epoch 58/100\n"
     ]
    },
    {
     "name": "stdout",
     "output_type": "stream",
     "text": [
      "20/20 [==============================] - 0s 14ms/step - loss: 0.3191 - accuracy: 0.8600 - val_loss: 0.3752 - val_accuracy: 0.8400\n",
      "Epoch 59/100\n",
      "20/20 [==============================] - 0s 14ms/step - loss: 0.3271 - accuracy: 0.9000 - val_loss: 0.3773 - val_accuracy: 0.8550\n",
      "Epoch 60/100\n",
      "20/20 [==============================] - 0s 15ms/step - loss: 0.3808 - accuracy: 0.8600 - val_loss: 0.3883 - val_accuracy: 0.8200\n",
      "Epoch 61/100\n",
      "20/20 [==============================] - 0s 13ms/step - loss: 0.3814 - accuracy: 0.8050 - val_loss: 0.4903 - val_accuracy: 0.7300\n",
      "Epoch 62/100\n",
      "20/20 [==============================] - 0s 14ms/step - loss: 0.4449 - accuracy: 0.8000 - val_loss: 0.3808 - val_accuracy: 0.8250\n",
      "Epoch 63/100\n",
      "20/20 [==============================] - 0s 13ms/step - loss: 0.3823 - accuracy: 0.8200 - val_loss: 0.3416 - val_accuracy: 0.8600\n",
      "Epoch 64/100\n",
      "20/20 [==============================] - 0s 13ms/step - loss: 0.4259 - accuracy: 0.7900 - val_loss: 0.4457 - val_accuracy: 0.7700\n",
      "Epoch 65/100\n",
      "20/20 [==============================] - 0s 13ms/step - loss: 0.3243 - accuracy: 0.8450 - val_loss: 0.3851 - val_accuracy: 0.7650\n",
      "Epoch 66/100\n",
      "20/20 [==============================] - 0s 12ms/step - loss: 0.3443 - accuracy: 0.8300 - val_loss: 0.3430 - val_accuracy: 0.8450\n",
      "Epoch 67/100\n",
      "20/20 [==============================] - 0s 13ms/step - loss: 0.3348 - accuracy: 0.8750 - val_loss: 0.3129 - val_accuracy: 0.8800\n",
      "Epoch 68/100\n",
      "20/20 [==============================] - 0s 14ms/step - loss: 0.3372 - accuracy: 0.8800 - val_loss: 0.4030 - val_accuracy: 0.8000\n",
      "Epoch 69/100\n",
      "20/20 [==============================] - 0s 15ms/step - loss: 0.4074 - accuracy: 0.8050 - val_loss: 0.3265 - val_accuracy: 0.8750\n",
      "Epoch 70/100\n",
      "20/20 [==============================] - 0s 14ms/step - loss: 0.3086 - accuracy: 0.8750 - val_loss: 0.3033 - val_accuracy: 0.8900\n",
      "Epoch 71/100\n",
      "20/20 [==============================] - 0s 13ms/step - loss: 0.3532 - accuracy: 0.8600 - val_loss: 0.3442 - val_accuracy: 0.8450\n",
      "Epoch 72/100\n",
      "20/20 [==============================] - 0s 14ms/step - loss: 0.3622 - accuracy: 0.8250 - val_loss: 0.3182 - val_accuracy: 0.8750\n",
      "Epoch 73/100\n",
      "20/20 [==============================] - 0s 14ms/step - loss: 0.4019 - accuracy: 0.8450 - val_loss: 0.3537 - val_accuracy: 0.8000\n",
      "Epoch 74/100\n",
      "20/20 [==============================] - 0s 15ms/step - loss: 0.3590 - accuracy: 0.8400 - val_loss: 0.3693 - val_accuracy: 0.8550\n",
      "Epoch 75/100\n",
      "20/20 [==============================] - 0s 14ms/step - loss: 0.3608 - accuracy: 0.8550 - val_loss: 0.3851 - val_accuracy: 0.8450\n",
      "Epoch 76/100\n",
      "20/20 [==============================] - 0s 17ms/step - loss: 0.3587 - accuracy: 0.8450 - val_loss: 0.3176 - val_accuracy: 0.8700\n",
      "Epoch 77/100\n",
      "20/20 [==============================] - 0s 13ms/step - loss: 0.3810 - accuracy: 0.8500 - val_loss: 0.3541 - val_accuracy: 0.8450\n",
      "Epoch 78/100\n",
      "20/20 [==============================] - 0s 13ms/step - loss: 0.2746 - accuracy: 0.8950 - val_loss: 0.3283 - val_accuracy: 0.8550\n",
      "Epoch 79/100\n",
      "20/20 [==============================] - 0s 14ms/step - loss: 0.2976 - accuracy: 0.9100 - val_loss: 0.3713 - val_accuracy: 0.8600\n",
      "Epoch 80/100\n",
      "20/20 [==============================] - 0s 16ms/step - loss: 0.3536 - accuracy: 0.8750 - val_loss: 0.3479 - val_accuracy: 0.8500\n",
      "Epoch 81/100\n",
      "20/20 [==============================] - 0s 17ms/step - loss: 0.2762 - accuracy: 0.8900 - val_loss: 0.3657 - val_accuracy: 0.8700\n",
      "Epoch 82/100\n",
      "20/20 [==============================] - 0s 14ms/step - loss: 0.3415 - accuracy: 0.8800 - val_loss: 0.2968 - val_accuracy: 0.8500\n",
      "Epoch 83/100\n",
      "20/20 [==============================] - 0s 23ms/step - loss: 0.3539 - accuracy: 0.8700 - val_loss: 0.3162 - val_accuracy: 0.8750\n",
      "Epoch 84/100\n",
      "20/20 [==============================] - 0s 20ms/step - loss: 0.2952 - accuracy: 0.8900 - val_loss: 0.2917 - val_accuracy: 0.8750\n",
      "Epoch 85/100\n",
      "20/20 [==============================] - 0s 18ms/step - loss: 0.3393 - accuracy: 0.8950 - val_loss: 0.2891 - val_accuracy: 0.9050\n",
      "Epoch 86/100\n",
      "20/20 [==============================] - 0s 18ms/step - loss: 0.3566 - accuracy: 0.8300 - val_loss: 0.3227 - val_accuracy: 0.8400\n",
      "Epoch 87/100\n",
      "20/20 [==============================] - 0s 15ms/step - loss: 0.3102 - accuracy: 0.9000 - val_loss: 0.3254 - val_accuracy: 0.8700\n",
      "Epoch 88/100\n",
      "20/20 [==============================] - 0s 13ms/step - loss: 0.4018 - accuracy: 0.8450 - val_loss: 0.3244 - val_accuracy: 0.8750\n",
      "Epoch 89/100\n",
      "20/20 [==============================] - 0s 14ms/step - loss: 0.4153 - accuracy: 0.8150 - val_loss: 0.3579 - val_accuracy: 0.8300\n",
      "Epoch 90/100\n",
      "20/20 [==============================] - 0s 13ms/step - loss: 0.3523 - accuracy: 0.8550 - val_loss: 0.3255 - val_accuracy: 0.8650\n",
      "Epoch 91/100\n",
      "20/20 [==============================] - 0s 13ms/step - loss: 0.3519 - accuracy: 0.8500 - val_loss: 0.2369 - val_accuracy: 0.9300\n",
      "Epoch 92/100\n",
      "20/20 [==============================] - 0s 13ms/step - loss: 0.2626 - accuracy: 0.9200 - val_loss: 0.3572 - val_accuracy: 0.8400\n",
      "Epoch 93/100\n",
      "20/20 [==============================] - 0s 13ms/step - loss: 0.3613 - accuracy: 0.8550 - val_loss: 0.2971 - val_accuracy: 0.8800\n",
      "Epoch 94/100\n",
      "20/20 [==============================] - 0s 23ms/step - loss: 0.4309 - accuracy: 0.8400 - val_loss: 0.3414 - val_accuracy: 0.8400\n",
      "Epoch 95/100\n",
      "20/20 [==============================] - 0s 17ms/step - loss: 0.3021 - accuracy: 0.8550 - val_loss: 0.3019 - val_accuracy: 0.8950\n",
      "Epoch 96/100\n",
      "20/20 [==============================] - 0s 19ms/step - loss: 0.3314 - accuracy: 0.8950 - val_loss: 0.2424 - val_accuracy: 0.9150\n",
      "Epoch 97/100\n",
      "20/20 [==============================] - 0s 13ms/step - loss: 0.3155 - accuracy: 0.8850 - val_loss: 0.3078 - val_accuracy: 0.8550\n",
      "Epoch 98/100\n",
      "20/20 [==============================] - 0s 14ms/step - loss: 0.2924 - accuracy: 0.8700 - val_loss: 0.2704 - val_accuracy: 0.8950\n",
      "Epoch 99/100\n",
      "20/20 [==============================] - 0s 13ms/step - loss: 0.2120 - accuracy: 0.9350 - val_loss: 0.2923 - val_accuracy: 0.8850\n",
      "Epoch 100/100\n",
      "20/20 [==============================] - 0s 15ms/step - loss: 0.3088 - accuracy: 0.8550 - val_loss: 0.2880 - val_accuracy: 0.8750\n"
     ]
    }
   ],
   "source": [
    "model.compile(optimizer='adam',\n",
    "              loss='binary_crossentropy',\n",
    "              metrics=['accuracy'])\n",
    "\n",
    "history = model.fit(\n",
    "    train_batches,\n",
    "    epochs=100,\n",
    "    steps_per_epoch=20,\n",
    "    validation_data=test_batches, validation_steps=20)"
   ]
  },
  {
   "cell_type": "code",
   "execution_count": 20,
   "metadata": {},
   "outputs": [
    {
     "name": "stdout",
     "output_type": "stream",
     "text": [
      "dict_keys(['loss', 'accuracy', 'val_loss', 'val_accuracy'])\n"
     ]
    }
   ],
   "source": [
    "history_dict = history.history\n",
    "print(history_dict.keys())"
   ]
  },
  {
   "cell_type": "markdown",
   "metadata": {
    "colab_type": "text",
    "id": "LQjpKVYTXU-1"
   },
   "source": [
    "With this approach our model reaches a validation accuracy of around 88% (note the model is overfitting, training accuracy is significantly higher)."
   ]
  },
  {
   "cell_type": "code",
   "execution_count": 21,
   "metadata": {
    "colab": {},
    "colab_type": "code",
    "id": "0D3OTmOT1z1O"
   },
   "outputs": [
    {
     "data": {
      "image/png": "[encoded data removed]",
      "text/plain": [
       "<Figure size 864x648 with 1 Axes>"
      ]
     },
     "metadata": {
      "needs_background": "light"
     },
     "output_type": "display_data"
    },
    {
     "data": {
      "image/png": "[encoded data removed]",
      "text/plain": [
       "<Figure size 864x648 with 1 Axes>"
      ]
     },
     "metadata": {
      "needs_background": "light"
     },
     "output_type": "display_data"
    }
   ],
   "source": [
    "import matplotlib.pyplot as plt\n",
    "\n",
    "history_dict = history.history\n",
    "\n",
    "acc = history_dict['accuracy']\n",
    "val_acc = history_dict['val_accuracy']\n",
    "loss = history_dict['loss']\n",
    "val_loss = history_dict['val_loss']\n",
    "\n",
    "epochs = range(1, len(acc) + 1)\n",
    "\n",
    "plt.figure(figsize=(12,9))\n",
    "plt.plot(epochs, loss, 'bo', label='Training loss')\n",
    "plt.plot(epochs, val_loss, 'b', label='Validation loss')\n",
    "plt.title('Training and validation loss')\n",
    "plt.xlabel('Epochs')\n",
    "plt.ylabel('Loss')\n",
    "plt.legend()\n",
    "plt.show()\n",
    "\n",
    "plt.figure(figsize=(12,9))\n",
    "plt.plot(epochs, acc, 'bo', label='Training acc')\n",
    "plt.plot(epochs, val_acc, 'b', label='Validation acc')\n",
    "plt.title('Training and validation accuracy')\n",
    "plt.xlabel('Epochs')\n",
    "plt.ylabel('Accuracy')\n",
    "plt.legend(loc='lower right')\n",
    "plt.ylim((0.5,1))\n",
    "plt.show()"
   ]
  },
  {
   "cell_type": "markdown",
   "metadata": {
    "colab_type": "text",
    "id": "KCoA6qwqP836"
   },
   "source": [
    "## Retrieve the learned embeddings\n",
    "\n",
    "Next, let's retrieve the word embeddings learned during training. This will be a matrix of shape `(vocab_size, embedding-dimension)`."
   ]
  },
  {
   "cell_type": "code",
   "execution_count": 22,
   "metadata": {
    "colab": {},
    "colab_type": "code",
    "id": "t8WwbsXCXtpa"
   },
   "outputs": [
    {
     "name": "stdout",
     "output_type": "stream",
     "text": [
      "(8185, 16)\n"
     ]
    }
   ],
   "source": [
    "e = model.layers[0]\n",
    "weights = e.get_weights()[0]\n",
    "print(weights.shape) # shape: (vocab_size, embedding_dim)"
   ]
  },
  {
   "cell_type": "markdown",
   "metadata": {
    "colab_type": "text",
    "id": "J8MiCA77X8B8"
   },
   "source": [
    "We will now write the weights to disk. To use the [Embedding Projector](http://projector.tensorflow.org), we will upload two files in tab separated format: a file of vectors (containing the embedding), and a file of meta data (containing the words)."
   ]
  },
  {
   "cell_type": "code",
   "execution_count": 23,
   "metadata": {
    "colab": {},
    "colab_type": "code",
    "id": "GsjempweP9Lq"
   },
   "outputs": [],
   "source": [
    "import io\n",
    "\n",
    "encoder = info.features['text'].encoder\n",
    "\n",
    "out_v = io.open('vecs.tsv', 'w', encoding='utf-8')\n",
    "out_m = io.open('meta.tsv', 'w', encoding='utf-8')\n",
    "\n",
    "for num, word in enumerate(encoder.subwords):\n",
    "  vec = weights[num+1] # skip 0, it's padding.\n",
    "  out_m.write(word + \"\\n\")\n",
    "  out_v.write('\\t'.join([str(x) for x in vec]) + \"\\n\")\n",
    "out_v.close()\n",
    "out_m.close()"
   ]
  },
  {
   "cell_type": "markdown",
   "metadata": {
    "colab_type": "text",
    "id": "PXLfFA54Yz-o"
   },
   "source": [
    "## Visualize the embeddings\n",
    "\n",
    "Once our weights files are ready, we will upload them to the Embedding Projector to visualize the learned word embeddings for high dimensional data.\n",
    "\n",
    "### From the definition:\n",
    "Embedding Projector is a web application tool that interactively visualizes embeddings by reading them from our model and rendering them in two or three dimension.\n",
    "After file uploading, you can play with the embeddings on Projector. Like we can search for words to find their closest neighbors.\n"
   ]
  },
  {
   "cell_type": "markdown",
   "metadata": {},
   "source": [
    "## Code Reference\n",
    "https://github.com/tensorflow/docs/blob/master/site/en/tutorials/text/word_embeddings.ipynb"
   ]
  },
  {
   "cell_type": "code",
   "execution_count": null,
   "metadata": {},
   "outputs": [],
   "source": []
  }
 ],
 "metadata": {
  "accelerator": "GPU",
  "colab": {
   "collapsed_sections": [],
   "name": "word_embeddings.ipynb",
   "private_outputs": true,
   "provenance": [],
   "toc_visible": true
  },
  "kernelspec": {
   "display_name": "Python 3",
   "language": "python",
   "name": "python3"
  },
  "language_info": {
   "codemirror_mode": {
    "name": "ipython",
    "version": 3
   },
   "file_extension": ".py",
   "mimetype": "text/x-python",
   "name": "python",
   "nbconvert_exporter": "python",
   "pygments_lexer": "ipython3",
   "version": "3.7.3"
  }
 },
 "nbformat": 4,
 "nbformat_minor": 1
}
